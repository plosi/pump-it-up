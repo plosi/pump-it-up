{
 "cells": [
  {
   "cell_type": "code",
   "execution_count": 14,
   "metadata": {},
   "outputs": [],
   "source": [
    "## General Imports\n",
    "import pandas as pd\n",
    "from ydata_profiling import ProfileReport\n",
    "import numpy as np\n",
    "import matplotlib.pyplot as plt\n",
    "import seaborn as sns\n",
    "\n",
    "import missingno as msno\n",
    "\n",
    "import warnings\n",
    "warnings.filterwarnings('ignore')"
   ]
  },
  {
   "cell_type": "code",
   "execution_count": 2,
   "metadata": {},
   "outputs": [],
   "source": [
    "# pd.set_option('display.max_columns', None)\n",
    "# pd.set_option('display.max_rows', None)"
   ]
  },
  {
   "cell_type": "code",
   "execution_count": 3,
   "metadata": {},
   "outputs": [],
   "source": [
    "training_values = \"~/Coding/drivendata/pump-it-up/data/raw/TrainingSetValues.csv\"\n",
    "training_labels = \"~/Coding/drivendata/pump-it-up/data/raw/TrainingSetLabels.csv\"\n",
    "vals = pd.read_csv(training_values)\n",
    "labels = pd.read_csv(training_labels)\n",
    "\n",
    "df = pd.merge(\n",
    "    left=vals,\n",
    "    right=labels,\n",
    "    on='id'\n",
    ")"
   ]
  },
  {
   "cell_type": "code",
   "execution_count": 4,
   "metadata": {},
   "outputs": [],
   "source": [
    "# report = ProfileReport(df, title='PumpItUp_EDA')\n",
    "# report.to_file('~/Coding/drivendata/pump-it-up/reports/raw_data_EDA.html')"
   ]
  },
  {
   "cell_type": "code",
   "execution_count": 5,
   "metadata": {},
   "outputs": [
    {
     "data": {
      "text/html": [
       "<div>\n",
       "<style scoped>\n",
       "    .dataframe tbody tr th:only-of-type {\n",
       "        vertical-align: middle;\n",
       "    }\n",
       "\n",
       "    .dataframe tbody tr th {\n",
       "        vertical-align: top;\n",
       "    }\n",
       "\n",
       "    .dataframe thead th {\n",
       "        text-align: right;\n",
       "    }\n",
       "</style>\n",
       "<table border=\"1\" class=\"dataframe\">\n",
       "  <thead>\n",
       "    <tr style=\"text-align: right;\">\n",
       "      <th></th>\n",
       "      <th>id</th>\n",
       "      <th>amount_tsh</th>\n",
       "      <th>date_recorded</th>\n",
       "      <th>funder</th>\n",
       "      <th>gps_height</th>\n",
       "      <th>installer</th>\n",
       "      <th>longitude</th>\n",
       "      <th>latitude</th>\n",
       "      <th>wpt_name</th>\n",
       "      <th>num_private</th>\n",
       "      <th>...</th>\n",
       "      <th>water_quality</th>\n",
       "      <th>quality_group</th>\n",
       "      <th>quantity</th>\n",
       "      <th>quantity_group</th>\n",
       "      <th>source</th>\n",
       "      <th>source_type</th>\n",
       "      <th>source_class</th>\n",
       "      <th>waterpoint_type</th>\n",
       "      <th>waterpoint_type_group</th>\n",
       "      <th>status_group</th>\n",
       "    </tr>\n",
       "  </thead>\n",
       "  <tbody>\n",
       "    <tr>\n",
       "      <th>44744</th>\n",
       "      <td>55492</td>\n",
       "      <td>0.0</td>\n",
       "      <td>2011-04-01</td>\n",
       "      <td>Water</td>\n",
       "      <td>0</td>\n",
       "      <td>Commu</td>\n",
       "      <td>35.754094</td>\n",
       "      <td>-6.326838</td>\n",
       "      <td>Kwa Norman Mombo</td>\n",
       "      <td>0</td>\n",
       "      <td>...</td>\n",
       "      <td>soft</td>\n",
       "      <td>good</td>\n",
       "      <td>enough</td>\n",
       "      <td>enough</td>\n",
       "      <td>machine dbh</td>\n",
       "      <td>borehole</td>\n",
       "      <td>groundwater</td>\n",
       "      <td>communal standpipe multiple</td>\n",
       "      <td>communal standpipe</td>\n",
       "      <td>functional needs repair</td>\n",
       "    </tr>\n",
       "    <tr>\n",
       "      <th>32188</th>\n",
       "      <td>17023</td>\n",
       "      <td>0.0</td>\n",
       "      <td>2011-04-04</td>\n",
       "      <td>Government Of Tanzania</td>\n",
       "      <td>0</td>\n",
       "      <td>DWE</td>\n",
       "      <td>33.436036</td>\n",
       "      <td>-8.749639</td>\n",
       "      <td>Rabison Mwakanandala</td>\n",
       "      <td>0</td>\n",
       "      <td>...</td>\n",
       "      <td>soft</td>\n",
       "      <td>good</td>\n",
       "      <td>enough</td>\n",
       "      <td>enough</td>\n",
       "      <td>river</td>\n",
       "      <td>river/lake</td>\n",
       "      <td>surface</td>\n",
       "      <td>communal standpipe</td>\n",
       "      <td>communal standpipe</td>\n",
       "      <td>functional</td>\n",
       "    </tr>\n",
       "    <tr>\n",
       "      <th>48266</th>\n",
       "      <td>24000</td>\n",
       "      <td>1000.0</td>\n",
       "      <td>2011-03-22</td>\n",
       "      <td>Go</td>\n",
       "      <td>0</td>\n",
       "      <td>DW</td>\n",
       "      <td>37.179883</td>\n",
       "      <td>-6.037763</td>\n",
       "      <td>Amani</td>\n",
       "      <td>0</td>\n",
       "      <td>...</td>\n",
       "      <td>soft</td>\n",
       "      <td>good</td>\n",
       "      <td>insufficient</td>\n",
       "      <td>insufficient</td>\n",
       "      <td>shallow well</td>\n",
       "      <td>shallow well</td>\n",
       "      <td>groundwater</td>\n",
       "      <td>hand pump</td>\n",
       "      <td>hand pump</td>\n",
       "      <td>non functional</td>\n",
       "    </tr>\n",
       "    <tr>\n",
       "      <th>37859</th>\n",
       "      <td>18794</td>\n",
       "      <td>0.0</td>\n",
       "      <td>2011-02-19</td>\n",
       "      <td>Sao H</td>\n",
       "      <td>1858</td>\n",
       "      <td>Sao</td>\n",
       "      <td>35.215674</td>\n",
       "      <td>-8.410828</td>\n",
       "      <td>none</td>\n",
       "      <td>0</td>\n",
       "      <td>...</td>\n",
       "      <td>soft</td>\n",
       "      <td>good</td>\n",
       "      <td>enough</td>\n",
       "      <td>enough</td>\n",
       "      <td>spring</td>\n",
       "      <td>spring</td>\n",
       "      <td>groundwater</td>\n",
       "      <td>communal standpipe</td>\n",
       "      <td>communal standpipe</td>\n",
       "      <td>functional</td>\n",
       "    </tr>\n",
       "    <tr>\n",
       "      <th>43810</th>\n",
       "      <td>73916</td>\n",
       "      <td>0.0</td>\n",
       "      <td>2013-03-27</td>\n",
       "      <td>Government Of Tanzania</td>\n",
       "      <td>1658</td>\n",
       "      <td>DWE</td>\n",
       "      <td>36.587151</td>\n",
       "      <td>-3.259026</td>\n",
       "      <td>Ololikoti</td>\n",
       "      <td>0</td>\n",
       "      <td>...</td>\n",
       "      <td>soft</td>\n",
       "      <td>good</td>\n",
       "      <td>enough</td>\n",
       "      <td>enough</td>\n",
       "      <td>spring</td>\n",
       "      <td>spring</td>\n",
       "      <td>groundwater</td>\n",
       "      <td>communal standpipe</td>\n",
       "      <td>communal standpipe</td>\n",
       "      <td>functional</td>\n",
       "    </tr>\n",
       "    <tr>\n",
       "      <th>5201</th>\n",
       "      <td>68848</td>\n",
       "      <td>0.0</td>\n",
       "      <td>2011-04-08</td>\n",
       "      <td>NaN</td>\n",
       "      <td>0</td>\n",
       "      <td>NaN</td>\n",
       "      <td>33.487774</td>\n",
       "      <td>-9.527874</td>\n",
       "      <td>Kwa Akina Debo</td>\n",
       "      <td>0</td>\n",
       "      <td>...</td>\n",
       "      <td>soft</td>\n",
       "      <td>good</td>\n",
       "      <td>insufficient</td>\n",
       "      <td>insufficient</td>\n",
       "      <td>spring</td>\n",
       "      <td>spring</td>\n",
       "      <td>groundwater</td>\n",
       "      <td>communal standpipe</td>\n",
       "      <td>communal standpipe</td>\n",
       "      <td>functional</td>\n",
       "    </tr>\n",
       "    <tr>\n",
       "      <th>18614</th>\n",
       "      <td>29166</td>\n",
       "      <td>0.0</td>\n",
       "      <td>2013-03-15</td>\n",
       "      <td>Tcrs</td>\n",
       "      <td>1334</td>\n",
       "      <td>DWE</td>\n",
       "      <td>36.720754</td>\n",
       "      <td>-2.629749</td>\n",
       "      <td>Kwa Sarune</td>\n",
       "      <td>0</td>\n",
       "      <td>...</td>\n",
       "      <td>soft</td>\n",
       "      <td>good</td>\n",
       "      <td>dry</td>\n",
       "      <td>dry</td>\n",
       "      <td>river</td>\n",
       "      <td>river/lake</td>\n",
       "      <td>surface</td>\n",
       "      <td>communal standpipe</td>\n",
       "      <td>communal standpipe</td>\n",
       "      <td>non functional</td>\n",
       "    </tr>\n",
       "    <tr>\n",
       "      <th>54186</th>\n",
       "      <td>37654</td>\n",
       "      <td>0.0</td>\n",
       "      <td>2012-10-25</td>\n",
       "      <td>Ministry Of Water</td>\n",
       "      <td>1214</td>\n",
       "      <td>Wizara ya maji</td>\n",
       "      <td>33.891808</td>\n",
       "      <td>-1.252452</td>\n",
       "      <td>Kwa Machagi Mgika</td>\n",
       "      <td>0</td>\n",
       "      <td>...</td>\n",
       "      <td>soft</td>\n",
       "      <td>good</td>\n",
       "      <td>enough</td>\n",
       "      <td>enough</td>\n",
       "      <td>lake</td>\n",
       "      <td>river/lake</td>\n",
       "      <td>surface</td>\n",
       "      <td>communal standpipe multiple</td>\n",
       "      <td>communal standpipe</td>\n",
       "      <td>non functional</td>\n",
       "    </tr>\n",
       "    <tr>\n",
       "      <th>38170</th>\n",
       "      <td>36180</td>\n",
       "      <td>0.0</td>\n",
       "      <td>2011-03-19</td>\n",
       "      <td>Dhv</td>\n",
       "      <td>169</td>\n",
       "      <td>DWE</td>\n",
       "      <td>37.674107</td>\n",
       "      <td>-7.416610</td>\n",
       "      <td>Kwa Charle</td>\n",
       "      <td>0</td>\n",
       "      <td>...</td>\n",
       "      <td>salty</td>\n",
       "      <td>salty</td>\n",
       "      <td>insufficient</td>\n",
       "      <td>insufficient</td>\n",
       "      <td>shallow well</td>\n",
       "      <td>shallow well</td>\n",
       "      <td>groundwater</td>\n",
       "      <td>hand pump</td>\n",
       "      <td>hand pump</td>\n",
       "      <td>functional</td>\n",
       "    </tr>\n",
       "    <tr>\n",
       "      <th>12910</th>\n",
       "      <td>53197</td>\n",
       "      <td>0.0</td>\n",
       "      <td>2011-02-27</td>\n",
       "      <td>Plan Int</td>\n",
       "      <td>192</td>\n",
       "      <td>Plan Tanzania</td>\n",
       "      <td>38.938740</td>\n",
       "      <td>-6.941787</td>\n",
       "      <td>Kifuru Primary School</td>\n",
       "      <td>0</td>\n",
       "      <td>...</td>\n",
       "      <td>soft</td>\n",
       "      <td>good</td>\n",
       "      <td>insufficient</td>\n",
       "      <td>insufficient</td>\n",
       "      <td>rainwater harvesting</td>\n",
       "      <td>rainwater harvesting</td>\n",
       "      <td>surface</td>\n",
       "      <td>communal standpipe</td>\n",
       "      <td>communal standpipe</td>\n",
       "      <td>non functional</td>\n",
       "    </tr>\n",
       "  </tbody>\n",
       "</table>\n",
       "<p>10 rows × 41 columns</p>\n",
       "</div>"
      ],
      "text/plain": [
       "          id  amount_tsh date_recorded                  funder  gps_height  \\\n",
       "44744  55492         0.0    2011-04-01                   Water           0   \n",
       "32188  17023         0.0    2011-04-04  Government Of Tanzania           0   \n",
       "48266  24000      1000.0    2011-03-22                      Go           0   \n",
       "37859  18794         0.0    2011-02-19                   Sao H        1858   \n",
       "43810  73916         0.0    2013-03-27  Government Of Tanzania        1658   \n",
       "5201   68848         0.0    2011-04-08                     NaN           0   \n",
       "18614  29166         0.0    2013-03-15                    Tcrs        1334   \n",
       "54186  37654         0.0    2012-10-25       Ministry Of Water        1214   \n",
       "38170  36180         0.0    2011-03-19                     Dhv         169   \n",
       "12910  53197         0.0    2011-02-27                Plan Int         192   \n",
       "\n",
       "            installer  longitude  latitude               wpt_name  \\\n",
       "44744           Commu  35.754094 -6.326838       Kwa Norman Mombo   \n",
       "32188             DWE  33.436036 -8.749639   Rabison Mwakanandala   \n",
       "48266              DW  37.179883 -6.037763                  Amani   \n",
       "37859             Sao  35.215674 -8.410828                   none   \n",
       "43810             DWE  36.587151 -3.259026              Ololikoti   \n",
       "5201              NaN  33.487774 -9.527874         Kwa Akina Debo   \n",
       "18614             DWE  36.720754 -2.629749             Kwa Sarune   \n",
       "54186  Wizara ya maji  33.891808 -1.252452      Kwa Machagi Mgika   \n",
       "38170             DWE  37.674107 -7.416610             Kwa Charle   \n",
       "12910   Plan Tanzania  38.938740 -6.941787  Kifuru Primary School   \n",
       "\n",
       "       num_private  ... water_quality quality_group      quantity  \\\n",
       "44744            0  ...          soft          good        enough   \n",
       "32188            0  ...          soft          good        enough   \n",
       "48266            0  ...          soft          good  insufficient   \n",
       "37859            0  ...          soft          good        enough   \n",
       "43810            0  ...          soft          good        enough   \n",
       "5201             0  ...          soft          good  insufficient   \n",
       "18614            0  ...          soft          good           dry   \n",
       "54186            0  ...          soft          good        enough   \n",
       "38170            0  ...         salty         salty  insufficient   \n",
       "12910            0  ...          soft          good  insufficient   \n",
       "\n",
       "       quantity_group                source           source_type  \\\n",
       "44744          enough           machine dbh              borehole   \n",
       "32188          enough                 river            river/lake   \n",
       "48266    insufficient          shallow well          shallow well   \n",
       "37859          enough                spring                spring   \n",
       "43810          enough                spring                spring   \n",
       "5201     insufficient                spring                spring   \n",
       "18614             dry                 river            river/lake   \n",
       "54186          enough                  lake            river/lake   \n",
       "38170    insufficient          shallow well          shallow well   \n",
       "12910    insufficient  rainwater harvesting  rainwater harvesting   \n",
       "\n",
       "      source_class              waterpoint_type waterpoint_type_group  \\\n",
       "44744  groundwater  communal standpipe multiple    communal standpipe   \n",
       "32188      surface           communal standpipe    communal standpipe   \n",
       "48266  groundwater                    hand pump             hand pump   \n",
       "37859  groundwater           communal standpipe    communal standpipe   \n",
       "43810  groundwater           communal standpipe    communal standpipe   \n",
       "5201   groundwater           communal standpipe    communal standpipe   \n",
       "18614      surface           communal standpipe    communal standpipe   \n",
       "54186      surface  communal standpipe multiple    communal standpipe   \n",
       "38170  groundwater                    hand pump             hand pump   \n",
       "12910      surface           communal standpipe    communal standpipe   \n",
       "\n",
       "                  status_group  \n",
       "44744  functional needs repair  \n",
       "32188               functional  \n",
       "48266           non functional  \n",
       "37859               functional  \n",
       "43810               functional  \n",
       "5201                functional  \n",
       "18614           non functional  \n",
       "54186           non functional  \n",
       "38170               functional  \n",
       "12910           non functional  \n",
       "\n",
       "[10 rows x 41 columns]"
      ]
     },
     "execution_count": 5,
     "metadata": {},
     "output_type": "execute_result"
    }
   ],
   "source": [
    "df.sample(10)"
   ]
  },
  {
   "cell_type": "code",
   "execution_count": 6,
   "metadata": {},
   "outputs": [
    {
     "name": "stdout",
     "output_type": "stream",
     "text": [
      "<class 'pandas.core.frame.DataFrame'>\n",
      "RangeIndex: 59400 entries, 0 to 59399\n",
      "Data columns (total 41 columns):\n",
      " #   Column                 Non-Null Count  Dtype  \n",
      "---  ------                 --------------  -----  \n",
      " 0   id                     59400 non-null  int64  \n",
      " 1   amount_tsh             59400 non-null  float64\n",
      " 2   date_recorded          59400 non-null  object \n",
      " 3   funder                 55763 non-null  object \n",
      " 4   gps_height             59400 non-null  int64  \n",
      " 5   installer              55745 non-null  object \n",
      " 6   longitude              59400 non-null  float64\n",
      " 7   latitude               59400 non-null  float64\n",
      " 8   wpt_name               59398 non-null  object \n",
      " 9   num_private            59400 non-null  int64  \n",
      " 10  basin                  59400 non-null  object \n",
      " 11  subvillage             59029 non-null  object \n",
      " 12  region                 59400 non-null  object \n",
      " 13  region_code            59400 non-null  int64  \n",
      " 14  district_code          59400 non-null  int64  \n",
      " 15  lga                    59400 non-null  object \n",
      " 16  ward                   59400 non-null  object \n",
      " 17  population             59400 non-null  int64  \n",
      " 18  public_meeting         56066 non-null  object \n",
      " 19  recorded_by            59400 non-null  object \n",
      " 20  scheme_management      55522 non-null  object \n",
      " 21  scheme_name            30590 non-null  object \n",
      " 22  permit                 56344 non-null  object \n",
      " 23  construction_year      59400 non-null  int64  \n",
      " 24  extraction_type        59400 non-null  object \n",
      " 25  extraction_type_group  59400 non-null  object \n",
      " 26  extraction_type_class  59400 non-null  object \n",
      " 27  management             59400 non-null  object \n",
      " 28  management_group       59400 non-null  object \n",
      " 29  payment                59400 non-null  object \n",
      " 30  payment_type           59400 non-null  object \n",
      " 31  water_quality          59400 non-null  object \n",
      " 32  quality_group          59400 non-null  object \n",
      " 33  quantity               59400 non-null  object \n",
      " 34  quantity_group         59400 non-null  object \n",
      " 35  source                 59400 non-null  object \n",
      " 36  source_type            59400 non-null  object \n",
      " 37  source_class           59400 non-null  object \n",
      " 38  waterpoint_type        59400 non-null  object \n",
      " 39  waterpoint_type_group  59400 non-null  object \n",
      " 40  status_group           59400 non-null  object \n",
      "dtypes: float64(3), int64(7), object(31)\n",
      "memory usage: 18.6+ MB\n"
     ]
    }
   ],
   "source": [
    "df.info()"
   ]
  },
  {
   "cell_type": "code",
   "execution_count": 23,
   "metadata": {},
   "outputs": [
    {
     "data": {
      "text/plain": [
       "funder                6.122896\n",
       "installer             6.153199\n",
       "wpt_name              0.003367\n",
       "subvillage            0.624579\n",
       "public_meeting        5.612795\n",
       "scheme_management     6.528620\n",
       "scheme_name          48.501684\n",
       "permit                5.144781\n",
       "dtype: float64"
      ]
     },
     "execution_count": 23,
     "metadata": {},
     "output_type": "execute_result"
    }
   ],
   "source": [
    "# percentage of missing values\n",
    "nulls = df.isnull().mean() * 100\n",
    "nulls[nulls>0]"
   ]
  },
  {
   "cell_type": "code",
   "execution_count": 19,
   "metadata": {},
   "outputs": [
    {
     "data": {
      "text/plain": [
       "<Axes: >"
      ]
     },
     "execution_count": 19,
     "metadata": {},
     "output_type": "execute_result"
    },
    {
     "data": {
      "image/png": "[encoded data removed]",
      "text/plain": [
       "<Figure size 2500x1000 with 2 Axes>"
      ]
     },
     "metadata": {},
     "output_type": "display_data"
    }
   ],
   "source": [
    "# ax = msno.matrix(df.sample(500))\n",
    "# ax.get_figure()\n",
    "msno.matrix(df.sample(500))"
   ]
  },
  {
   "cell_type": "code",
   "execution_count": 6,
   "metadata": {},
   "outputs": [
    {
     "data": {
      "text/html": [
       "<div>\n",
       "<style scoped>\n",
       "    .dataframe tbody tr th:only-of-type {\n",
       "        vertical-align: middle;\n",
       "    }\n",
       "\n",
       "    .dataframe tbody tr th {\n",
       "        vertical-align: top;\n",
       "    }\n",
       "\n",
       "    .dataframe thead th {\n",
       "        text-align: right;\n",
       "    }\n",
       "</style>\n",
       "<table border=\"1\" class=\"dataframe\">\n",
       "  <thead>\n",
       "    <tr style=\"text-align: right;\">\n",
       "      <th></th>\n",
       "      <th>id</th>\n",
       "      <th>amount_tsh</th>\n",
       "      <th>gps_height</th>\n",
       "      <th>longitude</th>\n",
       "      <th>latitude</th>\n",
       "      <th>num_private</th>\n",
       "      <th>region_code</th>\n",
       "      <th>district_code</th>\n",
       "      <th>population</th>\n",
       "      <th>construction_year</th>\n",
       "    </tr>\n",
       "  </thead>\n",
       "  <tbody>\n",
       "    <tr>\n",
       "      <th>count</th>\n",
       "      <td>59400.000000</td>\n",
       "      <td>59400.000000</td>\n",
       "      <td>59400.000000</td>\n",
       "      <td>59400.000000</td>\n",
       "      <td>5.940000e+04</td>\n",
       "      <td>59400.000000</td>\n",
       "      <td>59400.000000</td>\n",
       "      <td>59400.000000</td>\n",
       "      <td>59400.000000</td>\n",
       "      <td>59400.000000</td>\n",
       "    </tr>\n",
       "    <tr>\n",
       "      <th>mean</th>\n",
       "      <td>37115.131768</td>\n",
       "      <td>317.650385</td>\n",
       "      <td>668.297239</td>\n",
       "      <td>34.077427</td>\n",
       "      <td>-5.706033e+00</td>\n",
       "      <td>0.474141</td>\n",
       "      <td>15.297003</td>\n",
       "      <td>5.629747</td>\n",
       "      <td>179.909983</td>\n",
       "      <td>1300.652475</td>\n",
       "    </tr>\n",
       "    <tr>\n",
       "      <th>std</th>\n",
       "      <td>21453.128371</td>\n",
       "      <td>2997.574558</td>\n",
       "      <td>693.116350</td>\n",
       "      <td>6.567432</td>\n",
       "      <td>2.946019e+00</td>\n",
       "      <td>12.236230</td>\n",
       "      <td>17.587406</td>\n",
       "      <td>9.633649</td>\n",
       "      <td>471.482176</td>\n",
       "      <td>951.620547</td>\n",
       "    </tr>\n",
       "    <tr>\n",
       "      <th>min</th>\n",
       "      <td>0.000000</td>\n",
       "      <td>0.000000</td>\n",
       "      <td>-90.000000</td>\n",
       "      <td>0.000000</td>\n",
       "      <td>-1.164944e+01</td>\n",
       "      <td>0.000000</td>\n",
       "      <td>1.000000</td>\n",
       "      <td>0.000000</td>\n",
       "      <td>0.000000</td>\n",
       "      <td>0.000000</td>\n",
       "    </tr>\n",
       "    <tr>\n",
       "      <th>25%</th>\n",
       "      <td>18519.750000</td>\n",
       "      <td>0.000000</td>\n",
       "      <td>0.000000</td>\n",
       "      <td>33.090347</td>\n",
       "      <td>-8.540621e+00</td>\n",
       "      <td>0.000000</td>\n",
       "      <td>5.000000</td>\n",
       "      <td>2.000000</td>\n",
       "      <td>0.000000</td>\n",
       "      <td>0.000000</td>\n",
       "    </tr>\n",
       "    <tr>\n",
       "      <th>50%</th>\n",
       "      <td>37061.500000</td>\n",
       "      <td>0.000000</td>\n",
       "      <td>369.000000</td>\n",
       "      <td>34.908743</td>\n",
       "      <td>-5.021597e+00</td>\n",
       "      <td>0.000000</td>\n",
       "      <td>12.000000</td>\n",
       "      <td>3.000000</td>\n",
       "      <td>25.000000</td>\n",
       "      <td>1986.000000</td>\n",
       "    </tr>\n",
       "    <tr>\n",
       "      <th>75%</th>\n",
       "      <td>55656.500000</td>\n",
       "      <td>20.000000</td>\n",
       "      <td>1319.250000</td>\n",
       "      <td>37.178387</td>\n",
       "      <td>-3.326156e+00</td>\n",
       "      <td>0.000000</td>\n",
       "      <td>17.000000</td>\n",
       "      <td>5.000000</td>\n",
       "      <td>215.000000</td>\n",
       "      <td>2004.000000</td>\n",
       "    </tr>\n",
       "    <tr>\n",
       "      <th>max</th>\n",
       "      <td>74247.000000</td>\n",
       "      <td>350000.000000</td>\n",
       "      <td>2770.000000</td>\n",
       "      <td>40.345193</td>\n",
       "      <td>-2.000000e-08</td>\n",
       "      <td>1776.000000</td>\n",
       "      <td>99.000000</td>\n",
       "      <td>80.000000</td>\n",
       "      <td>30500.000000</td>\n",
       "      <td>2013.000000</td>\n",
       "    </tr>\n",
       "  </tbody>\n",
       "</table>\n",
       "</div>"
      ],
      "text/plain": [
       "                 id     amount_tsh    gps_height     longitude      latitude  \\\n",
       "count  59400.000000   59400.000000  59400.000000  59400.000000  5.940000e+04   \n",
       "mean   37115.131768     317.650385    668.297239     34.077427 -5.706033e+00   \n",
       "std    21453.128371    2997.574558    693.116350      6.567432  2.946019e+00   \n",
       "min        0.000000       0.000000    -90.000000      0.000000 -1.164944e+01   \n",
       "25%    18519.750000       0.000000      0.000000     33.090347 -8.540621e+00   \n",
       "50%    37061.500000       0.000000    369.000000     34.908743 -5.021597e+00   \n",
       "75%    55656.500000      20.000000   1319.250000     37.178387 -3.326156e+00   \n",
       "max    74247.000000  350000.000000   2770.000000     40.345193 -2.000000e-08   \n",
       "\n",
       "        num_private   region_code  district_code    population  \\\n",
       "count  59400.000000  59400.000000   59400.000000  59400.000000   \n",
       "mean       0.474141     15.297003       5.629747    179.909983   \n",
       "std       12.236230     17.587406       9.633649    471.482176   \n",
       "min        0.000000      1.000000       0.000000      0.000000   \n",
       "25%        0.000000      5.000000       2.000000      0.000000   \n",
       "50%        0.000000     12.000000       3.000000     25.000000   \n",
       "75%        0.000000     17.000000       5.000000    215.000000   \n",
       "max     1776.000000     99.000000      80.000000  30500.000000   \n",
       "\n",
       "       construction_year  \n",
       "count       59400.000000  \n",
       "mean         1300.652475  \n",
       "std           951.620547  \n",
       "min             0.000000  \n",
       "25%             0.000000  \n",
       "50%          1986.000000  \n",
       "75%          2004.000000  \n",
       "max          2013.000000  "
      ]
     },
     "execution_count": 6,
     "metadata": {},
     "output_type": "execute_result"
    }
   ],
   "source": [
    "df.describe()"
   ]
  },
  {
   "cell_type": "markdown",
   "metadata": {},
   "source": [
    "Comments:\n",
    "\n",
    "- Fields 'funder' and 'installer' are almost always missing at the same time.\n",
    "- No other clear patterns in missing values.\n",
    "- Almost 50% of records have missing values for 'scheme_name'."
   ]
  },
  {
   "cell_type": "markdown",
   "metadata": {},
   "source": [
    "# Numeric values\n",
    "Let's have a closer look at the numeric columns (excluding \"longitude\", \"latitude\", \"district_code\", which do not provide essential information):\n",
    "\n",
    "1. all numeric columns have no null data.\n",
    "2. \"id\": all unique values, so each row corresponds to a specific water point.\n",
    "3. \"amount_tsh\": varies from 0 to 350000. This is erroneously indicated in the competition as Total Static Head, but from the Taarifa repository (schemas.py) it's evident that this is the cost of the scheme in Tanzanian Shillings (TSH).\n",
    "4. \"gps_height\": varies from -90 to 2770 masl.\n",
    "5. \"num_private\": number of private connections. Only 1.27% of the water points have private connections. Instead of using the actual number of private connections it might be more useful to have a boolean.\n",
    "6. \"population\": almost 48% of the records report a population of 0 or 1, which is probably wrong. The majority of the points have a population between 100 and 500.\n",
    "7. \"construction_year\": about 35% of the records have 0 as construction year, which I assume is to be intended as a null value instead. The oldest water point is from year 1960, the newest is from year 2013."
   ]
  },
  {
   "cell_type": "code",
   "execution_count": 7,
   "metadata": {},
   "outputs": [
    {
     "data": {
      "text/html": [
       "<div>\n",
       "<style scoped>\n",
       "    .dataframe tbody tr th:only-of-type {\n",
       "        vertical-align: middle;\n",
       "    }\n",
       "\n",
       "    .dataframe tbody tr th {\n",
       "        vertical-align: top;\n",
       "    }\n",
       "\n",
       "    .dataframe thead th {\n",
       "        text-align: right;\n",
       "    }\n",
       "</style>\n",
       "<table border=\"1\" class=\"dataframe\">\n",
       "  <thead>\n",
       "    <tr style=\"text-align: right;\">\n",
       "      <th></th>\n",
       "      <th>id</th>\n",
       "      <th>amount_tsh</th>\n",
       "      <th>gps_height</th>\n",
       "      <th>longitude</th>\n",
       "      <th>latitude</th>\n",
       "      <th>num_private</th>\n",
       "      <th>region_code</th>\n",
       "      <th>district_code</th>\n",
       "      <th>population</th>\n",
       "      <th>construction_year</th>\n",
       "    </tr>\n",
       "  </thead>\n",
       "  <tbody>\n",
       "    <tr>\n",
       "      <th>count</th>\n",
       "      <td>59400.000000</td>\n",
       "      <td>59400.000000</td>\n",
       "      <td>59400.000000</td>\n",
       "      <td>59400.000000</td>\n",
       "      <td>5.940000e+04</td>\n",
       "      <td>59400.000000</td>\n",
       "      <td>59400.000000</td>\n",
       "      <td>59400.000000</td>\n",
       "      <td>59400.000000</td>\n",
       "      <td>59400.000000</td>\n",
       "    </tr>\n",
       "    <tr>\n",
       "      <th>mean</th>\n",
       "      <td>37115.131768</td>\n",
       "      <td>317.650385</td>\n",
       "      <td>668.297239</td>\n",
       "      <td>34.077427</td>\n",
       "      <td>-5.706033e+00</td>\n",
       "      <td>0.474141</td>\n",
       "      <td>15.297003</td>\n",
       "      <td>5.629747</td>\n",
       "      <td>179.909983</td>\n",
       "      <td>1300.652475</td>\n",
       "    </tr>\n",
       "    <tr>\n",
       "      <th>std</th>\n",
       "      <td>21453.128371</td>\n",
       "      <td>2997.574558</td>\n",
       "      <td>693.116350</td>\n",
       "      <td>6.567432</td>\n",
       "      <td>2.946019e+00</td>\n",
       "      <td>12.236230</td>\n",
       "      <td>17.587406</td>\n",
       "      <td>9.633649</td>\n",
       "      <td>471.482176</td>\n",
       "      <td>951.620547</td>\n",
       "    </tr>\n",
       "    <tr>\n",
       "      <th>min</th>\n",
       "      <td>0.000000</td>\n",
       "      <td>0.000000</td>\n",
       "      <td>-90.000000</td>\n",
       "      <td>0.000000</td>\n",
       "      <td>-1.164944e+01</td>\n",
       "      <td>0.000000</td>\n",
       "      <td>1.000000</td>\n",
       "      <td>0.000000</td>\n",
       "      <td>0.000000</td>\n",
       "      <td>0.000000</td>\n",
       "    </tr>\n",
       "    <tr>\n",
       "      <th>25%</th>\n",
       "      <td>18519.750000</td>\n",
       "      <td>0.000000</td>\n",
       "      <td>0.000000</td>\n",
       "      <td>33.090347</td>\n",
       "      <td>-8.540621e+00</td>\n",
       "      <td>0.000000</td>\n",
       "      <td>5.000000</td>\n",
       "      <td>2.000000</td>\n",
       "      <td>0.000000</td>\n",
       "      <td>0.000000</td>\n",
       "    </tr>\n",
       "    <tr>\n",
       "      <th>50%</th>\n",
       "      <td>37061.500000</td>\n",
       "      <td>0.000000</td>\n",
       "      <td>369.000000</td>\n",
       "      <td>34.908743</td>\n",
       "      <td>-5.021597e+00</td>\n",
       "      <td>0.000000</td>\n",
       "      <td>12.000000</td>\n",
       "      <td>3.000000</td>\n",
       "      <td>25.000000</td>\n",
       "      <td>1986.000000</td>\n",
       "    </tr>\n",
       "    <tr>\n",
       "      <th>75%</th>\n",
       "      <td>55656.500000</td>\n",
       "      <td>20.000000</td>\n",
       "      <td>1319.250000</td>\n",
       "      <td>37.178387</td>\n",
       "      <td>-3.326156e+00</td>\n",
       "      <td>0.000000</td>\n",
       "      <td>17.000000</td>\n",
       "      <td>5.000000</td>\n",
       "      <td>215.000000</td>\n",
       "      <td>2004.000000</td>\n",
       "    </tr>\n",
       "    <tr>\n",
       "      <th>max</th>\n",
       "      <td>74247.000000</td>\n",
       "      <td>350000.000000</td>\n",
       "      <td>2770.000000</td>\n",
       "      <td>40.345193</td>\n",
       "      <td>-2.000000e-08</td>\n",
       "      <td>1776.000000</td>\n",
       "      <td>99.000000</td>\n",
       "      <td>80.000000</td>\n",
       "      <td>30500.000000</td>\n",
       "      <td>2013.000000</td>\n",
       "    </tr>\n",
       "  </tbody>\n",
       "</table>\n",
       "</div>"
      ],
      "text/plain": [
       "                 id     amount_tsh    gps_height     longitude      latitude  \\\n",
       "count  59400.000000   59400.000000  59400.000000  59400.000000  5.940000e+04   \n",
       "mean   37115.131768     317.650385    668.297239     34.077427 -5.706033e+00   \n",
       "std    21453.128371    2997.574558    693.116350      6.567432  2.946019e+00   \n",
       "min        0.000000       0.000000    -90.000000      0.000000 -1.164944e+01   \n",
       "25%    18519.750000       0.000000      0.000000     33.090347 -8.540621e+00   \n",
       "50%    37061.500000       0.000000    369.000000     34.908743 -5.021597e+00   \n",
       "75%    55656.500000      20.000000   1319.250000     37.178387 -3.326156e+00   \n",
       "max    74247.000000  350000.000000   2770.000000     40.345193 -2.000000e-08   \n",
       "\n",
       "        num_private   region_code  district_code    population  \\\n",
       "count  59400.000000  59400.000000   59400.000000  59400.000000   \n",
       "mean       0.474141     15.297003       5.629747    179.909983   \n",
       "std       12.236230     17.587406       9.633649    471.482176   \n",
       "min        0.000000      1.000000       0.000000      0.000000   \n",
       "25%        0.000000      5.000000       2.000000      0.000000   \n",
       "50%        0.000000     12.000000       3.000000     25.000000   \n",
       "75%        0.000000     17.000000       5.000000    215.000000   \n",
       "max     1776.000000     99.000000      80.000000  30500.000000   \n",
       "\n",
       "       construction_year  \n",
       "count       59400.000000  \n",
       "mean         1300.652475  \n",
       "std           951.620547  \n",
       "min             0.000000  \n",
       "25%             0.000000  \n",
       "50%          1986.000000  \n",
       "75%          2004.000000  \n",
       "max          2013.000000  "
      ]
     },
     "execution_count": 7,
     "metadata": {},
     "output_type": "execute_result"
    }
   ],
   "source": [
    "# 1. df statistics\n",
    "df.describe()"
   ]
  },
  {
   "cell_type": "code",
   "execution_count": 8,
   "metadata": {},
   "outputs": [
    {
     "data": {
      "text/plain": [
       "False"
      ]
     },
     "execution_count": 8,
     "metadata": {},
     "output_type": "execute_result"
    }
   ],
   "source": [
    "# 2. Check if there are duplicate \"id\"\n",
    "# df.id.nunique()\n",
    "df.id.duplicated().any()"
   ]
  },
  {
   "cell_type": "code",
   "execution_count": 9,
   "metadata": {},
   "outputs": [
    {
     "data": {
      "text/plain": [
       "count     59400.000000\n",
       "mean        317.650385\n",
       "std        2997.574558\n",
       "min           0.000000\n",
       "25%           0.000000\n",
       "50%           0.000000\n",
       "75%          20.000000\n",
       "max      350000.000000\n",
       "Name: amount_tsh, dtype: float64"
      ]
     },
     "metadata": {},
     "output_type": "display_data"
    },
    {
     "data": {
      "text/plain": [
       "(-350.001, 29166.667]       59359\n",
       "(29166.667, 58333.333]         23\n",
       "(58333.333, 87500.0]            2\n",
       "(87500.0, 116666.667]           3\n",
       "(116666.667, 145833.333]        9\n",
       "(145833.333, 175000.0]          1\n",
       "(175000.0, 204166.667]          1\n",
       "(204166.667, 233333.333]        0\n",
       "(233333.333, 262500.0]          1\n",
       "(262500.0, 291666.667]          0\n",
       "(291666.667, 320833.333]        0\n",
       "(320833.333, 350000.0]          1\n",
       "Name: count, dtype: int64"
      ]
     },
     "execution_count": 9,
     "metadata": {},
     "output_type": "execute_result"
    }
   ],
   "source": [
    "# 3. Making sense of the \"amount_tsh\"\n",
    "display(df.amount_tsh.describe())\n",
    "df.amount_tsh.value_counts(sort=False, bins=12)"
   ]
  },
  {
   "cell_type": "code",
   "execution_count": 10,
   "metadata": {},
   "outputs": [
    {
     "data": {
      "text/plain": [
       "count    59400.000000\n",
       "mean       668.297239\n",
       "std        693.116350\n",
       "min        -90.000000\n",
       "25%          0.000000\n",
       "50%        369.000000\n",
       "75%       1319.250000\n",
       "max       2770.000000\n",
       "Name: gps_height, dtype: float64"
      ]
     },
     "execution_count": 10,
     "metadata": {},
     "output_type": "execute_result"
    }
   ],
   "source": [
    "# 4. Altitude in masl\n",
    "df.gps_height.describe()"
   ]
  },
  {
   "cell_type": "code",
   "execution_count": 11,
   "metadata": {},
   "outputs": [
    {
     "data": {
      "text/plain": [
       "count    59400.000000\n",
       "mean         0.474141\n",
       "std         12.236230\n",
       "min          0.000000\n",
       "25%          0.000000\n",
       "50%          0.000000\n",
       "75%          0.000000\n",
       "max       1776.000000\n",
       "Name: num_private, dtype: float64"
      ]
     },
     "metadata": {},
     "output_type": "display_data"
    },
    {
     "data": {
      "text/plain": [
       "(-1.777, 177.6]     59388\n",
       "(177.6, 355.2]          5\n",
       "(355.2, 532.8]          1\n",
       "(532.8, 710.4]          3\n",
       "(710.4, 888.0]          1\n",
       "(888.0, 1065.6]         0\n",
       "(1065.6, 1243.2]        0\n",
       "(1243.2, 1420.8]        1\n",
       "(1420.8, 1598.4]        0\n",
       "(1598.4, 1776.0]        1\n",
       "Name: count, dtype: int64"
      ]
     },
     "metadata": {},
     "output_type": "display_data"
    },
    {
     "name": "stdout",
     "output_type": "stream",
     "text": [
      "# water points with private connections: 757, i.e. 1.27%\n"
     ]
    }
   ],
   "source": [
    "# 5. Number of private connections\n",
    "display(df.num_private.describe())\n",
    "display(df.num_private.value_counts(sort=False, bins=10))\n",
    "num_private_gt_0 = df[df.num_private>0]['num_private'].count()\n",
    "print(f'# water points with private connections: {num_private_gt_0}, i.e. {(num_private_gt_0/len(df.num_private))*100:.2f}%')"
   ]
  },
  {
   "cell_type": "code",
   "execution_count": 12,
   "metadata": {},
   "outputs": [
    {
     "data": {
      "text/plain": [
       "count    59400.000000\n",
       "mean       179.909983\n",
       "std        471.482176\n",
       "min          0.000000\n",
       "25%          0.000000\n",
       "50%         25.000000\n",
       "75%        215.000000\n",
       "max      30500.000000\n",
       "Name: population, dtype: float64"
      ]
     },
     "metadata": {},
     "output_type": "display_data"
    },
    {
     "data": {
      "text/plain": [
       "(-30.501, 3050.0]     59153\n",
       "(3050.0, 6100.0]        179\n",
       "(6100.0, 9150.0]         60\n",
       "(9150.0, 12200.0]         6\n",
       "(12200.0, 15250.0]        0\n",
       "(15250.0, 18300.0]        1\n",
       "(18300.0, 21350.0]        0\n",
       "(21350.0, 24400.0]        0\n",
       "(24400.0, 27450.0]        0\n",
       "(27450.0, 30500.0]        1\n",
       "Name: count, dtype: int64"
      ]
     },
     "metadata": {},
     "output_type": "display_data"
    },
    {
     "name": "stdout",
     "output_type": "stream",
     "text": [
      "# water points with pop > 500: 4628, i.e. 7.79%\n"
     ]
    }
   ],
   "source": [
    "# 6. Population served by the water point\n",
    "display(df.population.describe())\n",
    "display(df.population.value_counts(sort=False, bins=10))\n",
    "pop_gt_500 = df[df.population>500]['population'].count()\n",
    "print(f'# water points with pop > 500: {pop_gt_500}, i.e. {(pop_gt_500/len(df.population))*100:.2f}%')"
   ]
  },
  {
   "cell_type": "code",
   "execution_count": 13,
   "metadata": {},
   "outputs": [
    {
     "data": {
      "text/html": [
       "<div>\n",
       "<style scoped>\n",
       "    .dataframe tbody tr th:only-of-type {\n",
       "        vertical-align: middle;\n",
       "    }\n",
       "\n",
       "    .dataframe tbody tr th {\n",
       "        vertical-align: top;\n",
       "    }\n",
       "\n",
       "    .dataframe thead th {\n",
       "        text-align: right;\n",
       "    }\n",
       "</style>\n",
       "<table border=\"1\" class=\"dataframe\">\n",
       "  <thead>\n",
       "    <tr style=\"text-align: right;\">\n",
       "      <th></th>\n",
       "      <th>id</th>\n",
       "      <th>population</th>\n",
       "      <th>pop_bins</th>\n",
       "    </tr>\n",
       "  </thead>\n",
       "  <tbody>\n",
       "    <tr>\n",
       "      <th>40522</th>\n",
       "      <td>32865</td>\n",
       "      <td>150</td>\n",
       "      <td>100-500</td>\n",
       "    </tr>\n",
       "    <tr>\n",
       "      <th>37941</th>\n",
       "      <td>63909</td>\n",
       "      <td>0</td>\n",
       "      <td>0-1</td>\n",
       "    </tr>\n",
       "    <tr>\n",
       "      <th>18813</th>\n",
       "      <td>63336</td>\n",
       "      <td>40</td>\n",
       "      <td>1-100</td>\n",
       "    </tr>\n",
       "    <tr>\n",
       "      <th>56960</th>\n",
       "      <td>14181</td>\n",
       "      <td>120</td>\n",
       "      <td>100-500</td>\n",
       "    </tr>\n",
       "    <tr>\n",
       "      <th>39954</th>\n",
       "      <td>20690</td>\n",
       "      <td>150</td>\n",
       "      <td>100-500</td>\n",
       "    </tr>\n",
       "    <tr>\n",
       "      <th>32495</th>\n",
       "      <td>34622</td>\n",
       "      <td>1</td>\n",
       "      <td>0-1</td>\n",
       "    </tr>\n",
       "    <tr>\n",
       "      <th>20423</th>\n",
       "      <td>3717</td>\n",
       "      <td>1</td>\n",
       "      <td>0-1</td>\n",
       "    </tr>\n",
       "    <tr>\n",
       "      <th>22152</th>\n",
       "      <td>28328</td>\n",
       "      <td>0</td>\n",
       "      <td>0-1</td>\n",
       "    </tr>\n",
       "    <tr>\n",
       "      <th>21377</th>\n",
       "      <td>27949</td>\n",
       "      <td>0</td>\n",
       "      <td>0-1</td>\n",
       "    </tr>\n",
       "    <tr>\n",
       "      <th>29314</th>\n",
       "      <td>65375</td>\n",
       "      <td>10</td>\n",
       "      <td>1-100</td>\n",
       "    </tr>\n",
       "  </tbody>\n",
       "</table>\n",
       "</div>"
      ],
      "text/plain": [
       "          id  population pop_bins\n",
       "40522  32865         150  100-500\n",
       "37941  63909           0      0-1\n",
       "18813  63336          40    1-100\n",
       "56960  14181         120  100-500\n",
       "39954  20690         150  100-500\n",
       "32495  34622           1      0-1\n",
       "20423   3717           1      0-1\n",
       "22152  28328           0      0-1\n",
       "21377  27949           0      0-1\n",
       "29314  65375          10    1-100"
      ]
     },
     "execution_count": 13,
     "metadata": {},
     "output_type": "execute_result"
    }
   ],
   "source": [
    "pop_df = df[['id','population']]\n",
    "max_pop = pop_df.population.max()\n",
    "pop_df['pop_bins'] = pd.cut(pop_df.population, bins=[0, 1,100,500, max_pop], labels=['0-1', '1-100', '100-500', '>500'], include_lowest=True)\n",
    "\n",
    "pop_df.sample(10)"
   ]
  },
  {
   "cell_type": "code",
   "execution_count": 14,
   "metadata": {},
   "outputs": [
    {
     "data": {
      "image/png": "[encoded data removed]",
      "text/plain": [
       "<Figure size 640x480 with 1 Axes>"
      ]
     },
     "metadata": {},
     "output_type": "display_data"
    }
   ],
   "source": [
    "grouped = pop_df.groupby('pop_bins').agg({'id':'count'}).reset_index().rename(columns={'id':'total'})\n",
    "ax = sns.barplot(\n",
    "    x=grouped.pop_bins,\n",
    "    y=grouped.total,\n",
    "    palette='Blues_d',   \n",
    ")\n",
    "\n",
    "for index,row in grouped.iterrows():\n",
    "    pcg = f'{row.total/len(df)*100:.2f}%'\n",
    "    ax.text(row.pop_bins, row.total, pcg)\n",
    "plt.show()"
   ]
  },
  {
   "cell_type": "code",
   "execution_count": 15,
   "metadata": {},
   "outputs": [
    {
     "data": {
      "text/plain": [
       "count    59400.000000\n",
       "mean      1300.652475\n",
       "std        951.620547\n",
       "min          0.000000\n",
       "25%          0.000000\n",
       "50%       1986.000000\n",
       "75%       2004.000000\n",
       "max       2013.000000\n",
       "Name: construction_year, dtype: float64"
      ]
     },
     "metadata": {},
     "output_type": "display_data"
    },
    {
     "name": "stdout",
     "output_type": "stream",
     "text": [
      "# water points with null construction year: 20709, i.e. 34.86%\n",
      "oldest water point constructed in year 1960\n",
      "newest water point constructed in year 2013\n"
     ]
    }
   ],
   "source": [
    "# 7. Year of construction\n",
    "display(df.construction_year.describe())\n",
    "min_yr = df[df.construction_year>0]['construction_year'].min()\n",
    "max_yr = df[df.construction_year>0]['construction_year'].max()\n",
    "constr_yr_0 = df[df.construction_year == 0]['construction_year'].count()\n",
    "print(f'# water points with null construction year: {constr_yr_0}, i.e. {(constr_yr_0/len(df.construction_year))*100:.2f}%')\n",
    "print(f'oldest water point constructed in year {min_yr}\\nnewest water point constructed in year {max_yr}')"
   ]
  },
  {
   "cell_type": "markdown",
   "metadata": {},
   "source": [
    "# Categorical values\n",
    "\n",
    "Let's have a closer look at the categorical columns (excluding \"funder\", \"wpt_name\", \"subvillage\", \"lga\", \"ward\", \"scheme_name\", which are not relevant for the analysis):\n",
    "\n",
    "1. \"date_recorded\": readings have been taken between 14-Oct-2002 and 03-Dec-2013. Measurement can be affected by the seasonality of the water resource, therefore I will create an additional column for the rainy season: 0 is dry season, 1 is short rainy season and 2 is long rainy season.\n",
    "2. \"installer\": there are more than 2000 different implementers, with many mispelling referring to the same thing (unclean data). However, many values include almost the acronym DWE (District Water Engineer), and others the word government both as local (I assume, when no name is specified) and as foreign.\n",
    "3. \"basin\": there are 9 different hydrological basins.\n",
    "4. \"region/region_code\": there are 21 different regions and 27 different region codes: some of the regions have different codes.\n",
    "5. \"public_meeting\": almost 86% of the records have public meetings, 6% is unknown.\n",
    "6. \"recorded_by\": there is only one unique entity in this field, so this is not a useful information.\n",
    "7. \"scheme_management/management/management_group\": according to the 'scheme_management' field almost 62% of the schemes are managed via VWC (Village Water Committee). There is some discrepency between the 'scheme_management' and the 'management' fields, which apparantly should report the same type of information, but there are null values in 'scheme_management' column. The 'management_group' seems like a better summary for this information.\n",
    "8. \"permit\": about 64% of schemes have a permit.\n",
    "9. \"extraction_type/group/class\": subcategories of type of pumps installed. The 'gravity' type I assume is for river/spring sources. The 'extraction_type_class' is the best summary.\n",
    "10. \"payment/payment_type\": these two columns report the same information.\n",
    "11. \"water_quality/group\": similar information, but in the 'water_quality' field there are two categories where implicity says the water point was abandoned: about 51% of the points that were abandoned are still functional.\n",
    "12. \"quantity/group\": these two fields provide the same information.\n",
    "13. \"source/class/type\": provide similar information, the best summary represented by the type.\n",
    "14. \"waterpoint_type/group\": similar information, the best summary represented by the group."
   ]
  },
  {
   "cell_type": "code",
   "execution_count": 16,
   "metadata": {},
   "outputs": [
    {
     "data": {
      "text/plain": [
       "['date_recorded',\n",
       " 'funder',\n",
       " 'installer',\n",
       " 'wpt_name',\n",
       " 'basin',\n",
       " 'subvillage',\n",
       " 'region',\n",
       " 'lga',\n",
       " 'ward',\n",
       " 'public_meeting',\n",
       " 'recorded_by',\n",
       " 'scheme_management',\n",
       " 'scheme_name',\n",
       " 'permit',\n",
       " 'extraction_type',\n",
       " 'extraction_type_group',\n",
       " 'extraction_type_class',\n",
       " 'management',\n",
       " 'management_group',\n",
       " 'payment',\n",
       " 'payment_type',\n",
       " 'water_quality',\n",
       " 'quality_group',\n",
       " 'quantity',\n",
       " 'quantity_group',\n",
       " 'source',\n",
       " 'source_type',\n",
       " 'source_class',\n",
       " 'waterpoint_type',\n",
       " 'waterpoint_type_group',\n",
       " 'status_group']"
      ]
     },
     "execution_count": 16,
     "metadata": {},
     "output_type": "execute_result"
    }
   ],
   "source": [
    "df.select_dtypes(include='object').columns.to_list()"
   ]
  },
  {
   "cell_type": "code",
   "execution_count": 17,
   "metadata": {},
   "outputs": [],
   "source": [
    "# 1. Date recorded --> add year and month and check seasonality\n",
    "# making a backup copy of the original dataframe\n",
    "df_orig = df.copy()\n",
    "df['date_recorded'] = pd.to_datetime(df.date_recorded, format='%Y-%m-%d')"
   ]
  },
  {
   "cell_type": "code",
   "execution_count": 18,
   "metadata": {},
   "outputs": [
    {
     "data": {
      "text/plain": [
       "count                            59400\n",
       "mean     2012-03-29 09:11:33.818181888\n",
       "min                2002-10-14 00:00:00\n",
       "25%                2011-04-01 00:00:00\n",
       "50%                2012-10-10 00:00:00\n",
       "75%                2013-02-09 00:00:00\n",
       "max                2013-12-03 00:00:00\n",
       "Name: date_recorded, dtype: object"
      ]
     },
     "execution_count": 18,
     "metadata": {},
     "output_type": "execute_result"
    }
   ],
   "source": [
    "df.date_recorded.describe()"
   ]
  },
  {
   "cell_type": "code",
   "execution_count": 20,
   "metadata": {},
   "outputs": [
    {
     "name": "stdout",
     "output_type": "stream",
     "text": [
      "Number of unique values: 2145\n",
      "number of null records: 3655\n"
     ]
    },
    {
     "data": {
      "text/plain": [
       "installer\n",
       "DWE                17402\n",
       "Government          1825\n",
       "RWE                 1206\n",
       "Commu               1060\n",
       "DANIDA              1050\n",
       "                   ...  \n",
       "Wizara  ya maji        1\n",
       "TWESS                  1\n",
       "Nasan workers          1\n",
       "R                      1\n",
       "SELEPTA                1\n",
       "Name: count, Length: 2145, dtype: int64"
      ]
     },
     "metadata": {},
     "output_type": "display_data"
    }
   ],
   "source": [
    "# 2. Installer\n",
    "print(f'Number of unique values: {df.installer.nunique()}\\nnumber of null records: {df.installer.isnull().sum()}')\n",
    "display(df.installer.value_counts())\n",
    "# pcg_DWE = df[df.installer == 'DWE']['installer'].count()/len(df)*100\n",
    "# pcg_government = df[df.installer == 'Government']['installer'].count()/len(df)*100\n",
    "# print(f'{pcg_DWE:.2f}% of points were installed by DWE, {pcg_government:.2f}% by the government and the remaining by other actors')"
   ]
  },
  {
   "cell_type": "code",
   "execution_count": 21,
   "metadata": {},
   "outputs": [
    {
     "name": "stdout",
     "output_type": "stream",
     "text": [
      "Number of null records: 0\n"
     ]
    },
    {
     "data": {
      "image/png": "[encoded data removed]",
      "text/plain": [
       "<Figure size 640x480 with 1 Axes>"
      ]
     },
     "metadata": {},
     "output_type": "display_data"
    }
   ],
   "source": [
    "# 3. Basin\n",
    "# df.basin.value_counts()\n",
    "print(f'Number of null records: {df.basin.isnull().sum()}')\n",
    "grouped = df.groupby(['basin']).agg({'id':'count'}).reset_index().rename(columns={'id':'total_wp'}).sort_values('total_wp')\n",
    "\n",
    "sns.barplot(\n",
    "    data=grouped,\n",
    "    x='total_wp',\n",
    "    y='basin',\n",
    "    palette='Blues_d',\n",
    ")\n",
    "\n",
    "plt.show()"
   ]
  },
  {
   "cell_type": "code",
   "execution_count": 24,
   "metadata": {},
   "outputs": [
    {
     "data": {
      "text/plain": [
       "region\n",
       "Iringa           5294\n",
       "Shinyanga        4982\n",
       "Mbeya            4639\n",
       "Kilimanjaro      4379\n",
       "Morogoro         4006\n",
       "Arusha           3350\n",
       "Kagera           3316\n",
       "Mwanza           3102\n",
       "Kigoma           2816\n",
       "Ruvuma           2640\n",
       "Pwani            2635\n",
       "Tanga            2547\n",
       "Dodoma           2201\n",
       "Singida          2093\n",
       "Mara             1969\n",
       "Tabora           1959\n",
       "Rukwa            1808\n",
       "Mtwara           1730\n",
       "Manyara          1583\n",
       "Lindi            1546\n",
       "Dar es Salaam     805\n",
       "Name: count, dtype: int64"
      ]
     },
     "metadata": {},
     "output_type": "display_data"
    },
    {
     "data": {
      "text/plain": [
       "region_code\n",
       "11    5300\n",
       "17    5011\n",
       "12    4639\n",
       "3     4379\n",
       "5     4040\n",
       "18    3324\n",
       "19    3047\n",
       "2     3024\n",
       "16    2816\n",
       "10    2640\n",
       "4     2513\n",
       "1     2201\n",
       "13    2093\n",
       "14    1979\n",
       "20    1969\n",
       "15    1808\n",
       "6     1609\n",
       "21    1583\n",
       "80    1238\n",
       "60    1025\n",
       "90     917\n",
       "7      805\n",
       "99     423\n",
       "9      390\n",
       "24     326\n",
       "8      300\n",
       "40       1\n",
       "Name: count, dtype: int64"
      ]
     },
     "metadata": {},
     "output_type": "display_data"
    },
    {
     "name": "stdout",
     "output_type": "stream",
     "text": [
      "Number of null records (region): 0\n",
      "number of null records (region_code): 0\n"
     ]
    },
    {
     "data": {
      "text/html": [
       "<div>\n",
       "<style scoped>\n",
       "    .dataframe tbody tr th:only-of-type {\n",
       "        vertical-align: middle;\n",
       "    }\n",
       "\n",
       "    .dataframe tbody tr th {\n",
       "        vertical-align: top;\n",
       "    }\n",
       "\n",
       "    .dataframe thead th {\n",
       "        text-align: right;\n",
       "    }\n",
       "</style>\n",
       "<table border=\"1\" class=\"dataframe\">\n",
       "  <thead>\n",
       "    <tr style=\"text-align: right;\">\n",
       "      <th></th>\n",
       "      <th>region_code</th>\n",
       "      <th>total_wp</th>\n",
       "      <th>region</th>\n",
       "    </tr>\n",
       "  </thead>\n",
       "  <tbody>\n",
       "    <tr>\n",
       "      <th>22</th>\n",
       "      <td>40</td>\n",
       "      <td>1</td>\n",
       "      <td>Pwani</td>\n",
       "    </tr>\n",
       "    <tr>\n",
       "      <th>7</th>\n",
       "      <td>8</td>\n",
       "      <td>300</td>\n",
       "      <td>Lindi</td>\n",
       "    </tr>\n",
       "    <tr>\n",
       "      <th>21</th>\n",
       "      <td>24</td>\n",
       "      <td>326</td>\n",
       "      <td>Arusha</td>\n",
       "    </tr>\n",
       "    <tr>\n",
       "      <th>8</th>\n",
       "      <td>9</td>\n",
       "      <td>390</td>\n",
       "      <td>Mtwara</td>\n",
       "    </tr>\n",
       "    <tr>\n",
       "      <th>26</th>\n",
       "      <td>99</td>\n",
       "      <td>423</td>\n",
       "      <td>Mtwara</td>\n",
       "    </tr>\n",
       "    <tr>\n",
       "      <th>6</th>\n",
       "      <td>7</td>\n",
       "      <td>805</td>\n",
       "      <td>Dar es Salaam</td>\n",
       "    </tr>\n",
       "    <tr>\n",
       "      <th>25</th>\n",
       "      <td>90</td>\n",
       "      <td>917</td>\n",
       "      <td>Mtwara</td>\n",
       "    </tr>\n",
       "    <tr>\n",
       "      <th>23</th>\n",
       "      <td>60</td>\n",
       "      <td>1025</td>\n",
       "      <td>Pwani</td>\n",
       "    </tr>\n",
       "    <tr>\n",
       "      <th>24</th>\n",
       "      <td>80</td>\n",
       "      <td>1238</td>\n",
       "      <td>Lindi</td>\n",
       "    </tr>\n",
       "    <tr>\n",
       "      <th>20</th>\n",
       "      <td>21</td>\n",
       "      <td>1583</td>\n",
       "      <td>Manyara</td>\n",
       "    </tr>\n",
       "    <tr>\n",
       "      <th>5</th>\n",
       "      <td>6</td>\n",
       "      <td>1609</td>\n",
       "      <td>Pwani</td>\n",
       "    </tr>\n",
       "    <tr>\n",
       "      <th>14</th>\n",
       "      <td>15</td>\n",
       "      <td>1808</td>\n",
       "      <td>Rukwa</td>\n",
       "    </tr>\n",
       "    <tr>\n",
       "      <th>19</th>\n",
       "      <td>20</td>\n",
       "      <td>1969</td>\n",
       "      <td>Mara</td>\n",
       "    </tr>\n",
       "    <tr>\n",
       "      <th>13</th>\n",
       "      <td>14</td>\n",
       "      <td>1979</td>\n",
       "      <td>Tabora</td>\n",
       "    </tr>\n",
       "    <tr>\n",
       "      <th>12</th>\n",
       "      <td>13</td>\n",
       "      <td>2093</td>\n",
       "      <td>Singida</td>\n",
       "    </tr>\n",
       "    <tr>\n",
       "      <th>0</th>\n",
       "      <td>1</td>\n",
       "      <td>2201</td>\n",
       "      <td>Dodoma</td>\n",
       "    </tr>\n",
       "    <tr>\n",
       "      <th>3</th>\n",
       "      <td>4</td>\n",
       "      <td>2513</td>\n",
       "      <td>Tanga</td>\n",
       "    </tr>\n",
       "    <tr>\n",
       "      <th>9</th>\n",
       "      <td>10</td>\n",
       "      <td>2640</td>\n",
       "      <td>Ruvuma</td>\n",
       "    </tr>\n",
       "    <tr>\n",
       "      <th>15</th>\n",
       "      <td>16</td>\n",
       "      <td>2816</td>\n",
       "      <td>Kigoma</td>\n",
       "    </tr>\n",
       "    <tr>\n",
       "      <th>1</th>\n",
       "      <td>2</td>\n",
       "      <td>3024</td>\n",
       "      <td>Arusha</td>\n",
       "    </tr>\n",
       "    <tr>\n",
       "      <th>18</th>\n",
       "      <td>19</td>\n",
       "      <td>3047</td>\n",
       "      <td>Mwanza</td>\n",
       "    </tr>\n",
       "    <tr>\n",
       "      <th>17</th>\n",
       "      <td>18</td>\n",
       "      <td>3324</td>\n",
       "      <td>Kagera</td>\n",
       "    </tr>\n",
       "    <tr>\n",
       "      <th>4</th>\n",
       "      <td>5</td>\n",
       "      <td>4040</td>\n",
       "      <td>Morogoro</td>\n",
       "    </tr>\n",
       "    <tr>\n",
       "      <th>2</th>\n",
       "      <td>3</td>\n",
       "      <td>4379</td>\n",
       "      <td>Kilimanjaro</td>\n",
       "    </tr>\n",
       "    <tr>\n",
       "      <th>11</th>\n",
       "      <td>12</td>\n",
       "      <td>4639</td>\n",
       "      <td>Mbeya</td>\n",
       "    </tr>\n",
       "    <tr>\n",
       "      <th>16</th>\n",
       "      <td>17</td>\n",
       "      <td>5011</td>\n",
       "      <td>Shinyanga</td>\n",
       "    </tr>\n",
       "    <tr>\n",
       "      <th>10</th>\n",
       "      <td>11</td>\n",
       "      <td>5300</td>\n",
       "      <td>Iringa</td>\n",
       "    </tr>\n",
       "  </tbody>\n",
       "</table>\n",
       "</div>"
      ],
      "text/plain": [
       "    region_code  total_wp         region\n",
       "22           40         1          Pwani\n",
       "7             8       300          Lindi\n",
       "21           24       326         Arusha\n",
       "8             9       390         Mtwara\n",
       "26           99       423         Mtwara\n",
       "6             7       805  Dar es Salaam\n",
       "25           90       917         Mtwara\n",
       "23           60      1025          Pwani\n",
       "24           80      1238          Lindi\n",
       "20           21      1583        Manyara\n",
       "5             6      1609          Pwani\n",
       "14           15      1808          Rukwa\n",
       "19           20      1969           Mara\n",
       "13           14      1979         Tabora\n",
       "12           13      2093        Singida\n",
       "0             1      2201         Dodoma\n",
       "3             4      2513          Tanga\n",
       "9            10      2640         Ruvuma\n",
       "15           16      2816         Kigoma\n",
       "1             2      3024         Arusha\n",
       "18           19      3047         Mwanza\n",
       "17           18      3324         Kagera\n",
       "4             5      4040       Morogoro\n",
       "2             3      4379    Kilimanjaro\n",
       "11           12      4639          Mbeya\n",
       "16           17      5011      Shinyanga\n",
       "10           11      5300         Iringa"
      ]
     },
     "metadata": {},
     "output_type": "display_data"
    },
    {
     "data": {
      "image/png": "[encoded data removed]",
      "text/plain": [
       "<Figure size 640x480 with 1 Axes>"
      ]
     },
     "metadata": {},
     "output_type": "display_data"
    }
   ],
   "source": [
    "# 4. Region\n",
    "display(df.region.value_counts())\n",
    "display(df.region_code.value_counts())\n",
    "print(f'Number of null records (region): {df.region.isnull().sum()}\\nnumber of null records (region_code): {df.region_code.isnull().sum()}')\n",
    "\n",
    "grouped = df.groupby(['region_code']).agg({'id':'count', 'region':'last'}).reset_index().rename(columns={'id':'total_wp'}).sort_values('total_wp')\n",
    "\n",
    "display(grouped)\n",
    "\n",
    "sns.barplot(\n",
    "    data=grouped,\n",
    "    x='total_wp',\n",
    "    y='region',\n",
    "    palette='Blues_d',\n",
    ")\n",
    "\n",
    "plt.show()"
   ]
  },
  {
   "cell_type": "code",
   "execution_count": 23,
   "metadata": {},
   "outputs": [
    {
     "data": {
      "text/plain": [
       "public_meeting\n",
       "True     51011\n",
       "False     5055\n",
       "Name: count, dtype: int64"
      ]
     },
     "metadata": {},
     "output_type": "display_data"
    },
    {
     "name": "stdout",
     "output_type": "stream",
     "text": [
      "Number of null records: 3334\n",
      "85.88% of water points have public meeting, the remaining have no meetings or unknown.\n"
     ]
    }
   ],
   "source": [
    "# 5. Public meeting\n",
    "display(df.public_meeting.value_counts())\n",
    "print(f'Number of null records: {df.public_meeting.isnull().sum()}')\n",
    "pcg_public_meeting = df[df.public_meeting == True]['id'].count()/len(df.id)*100\n",
    "print(f'{pcg_public_meeting:.2f}% of water points have public meeting, the remaining have no meetings or unknown.')"
   ]
  },
  {
   "cell_type": "code",
   "execution_count": 24,
   "metadata": {},
   "outputs": [
    {
     "data": {
      "text/plain": [
       "recorded_by\n",
       "GeoData Consultants Ltd    59400\n",
       "Name: count, dtype: int64"
      ]
     },
     "metadata": {},
     "output_type": "display_data"
    },
    {
     "name": "stdout",
     "output_type": "stream",
     "text": [
      "Number of null records: 0\n"
     ]
    }
   ],
   "source": [
    "# 6. Recoded by\n",
    "display(df.recorded_by.value_counts())\n",
    "print(f'Number of null records: {df.recorded_by.isnull().sum()}')"
   ]
  },
  {
   "cell_type": "code",
   "execution_count": 25,
   "metadata": {},
   "outputs": [
    {
     "data": {
      "text/plain": [
       "scheme_management\n",
       "VWC                 36793\n",
       "WUG                  5206\n",
       "Water authority      3153\n",
       "WUA                  2883\n",
       "Water Board          2748\n",
       "Parastatal           1680\n",
       "Private operator     1063\n",
       "Company              1061\n",
       "Other                 766\n",
       "SWC                    97\n",
       "Trust                  72\n",
       "Name: count, dtype: int64"
      ]
     },
     "metadata": {},
     "output_type": "display_data"
    },
    {
     "data": {
      "text/plain": [
       "management\n",
       "vwc                 40507\n",
       "wug                  6515\n",
       "water board          2933\n",
       "wua                  2535\n",
       "private operator     1971\n",
       "parastatal           1768\n",
       "water authority       904\n",
       "other                 844\n",
       "company               685\n",
       "unknown               561\n",
       "other - school         99\n",
       "trust                  78\n",
       "Name: count, dtype: int64"
      ]
     },
     "metadata": {},
     "output_type": "display_data"
    },
    {
     "data": {
      "text/plain": [
       "management_group\n",
       "user-group    52490\n",
       "commercial     3638\n",
       "parastatal     1768\n",
       "other           943\n",
       "unknown         561\n",
       "Name: count, dtype: int64"
      ]
     },
     "metadata": {},
     "output_type": "display_data"
    },
    {
     "name": "stdout",
     "output_type": "stream",
     "text": [
      "Number of null records (scheme_management): 3878\n",
      "Number of null records (management): 0\n",
      "Number of null records (management_group): 0\n"
     ]
    },
    {
     "data": {
      "image/png": "[encoded data removed]",
      "text/plain": [
       "<Figure size 640x480 with 1 Axes>"
      ]
     },
     "metadata": {},
     "output_type": "display_data"
    }
   ],
   "source": [
    "# 7. Scheme management\n",
    "display(df.scheme_management.value_counts())\n",
    "display(df.management.value_counts())\n",
    "display(df.management_group.value_counts())\n",
    "\n",
    "print(f'Number of null records (scheme_management): {df.scheme_management.isnull().sum()}')\n",
    "print(f'Number of null records (management): {df.management.isnull().sum()}')\n",
    "print(f'Number of null records (management_group): {df.management_group.isnull().sum()}')\n",
    "\n",
    "grouped = df.groupby(['management']).agg({'id':'count'}).reset_index().rename(columns={'id':'total_wp'}).sort_values('total_wp')\n",
    "\n",
    "ax = sns.barplot(\n",
    "    data=grouped,\n",
    "    x='total_wp',\n",
    "    y='management',\n",
    "    palette='Blues_d',\n",
    ")\n",
    "\n",
    "for index,row in grouped.iterrows():\n",
    "    pcg = f'{row.total_wp/len(df)*100:.2f}%'\n",
    "    ax.text(row.total_wp, row.management, pcg)\n",
    "\n",
    "plt.show()"
   ]
  },
  {
   "cell_type": "code",
   "execution_count": 26,
   "metadata": {},
   "outputs": [
    {
     "data": {
      "text/plain": [
       "permit\n",
       "True     38852\n",
       "False    17492\n",
       "Name: count, dtype: int64"
      ]
     },
     "metadata": {},
     "output_type": "display_data"
    },
    {
     "name": "stdout",
     "output_type": "stream",
     "text": [
      "Number of null records: 3056\n",
      "65.41% of water points have permit, the remaning either have no permit or the permit status is unknown.\n"
     ]
    }
   ],
   "source": [
    "# 8. Permit\n",
    "display(df.permit.value_counts())\n",
    "print(f'Number of null records: {df.permit.isnull().sum()}')\n",
    "pcg_permit = df[df.permit == True]['id'].count()/len(df.id)*100\n",
    "print(f'{pcg_permit:.2f}% of water points have permit, the remaning either have no permit or the permit status is unknown.')"
   ]
  },
  {
   "cell_type": "code",
   "execution_count": 27,
   "metadata": {},
   "outputs": [
    {
     "data": {
      "text/plain": [
       "extraction_type\n",
       "gravity                      26780\n",
       "nira/tanira                   8154\n",
       "other                         6430\n",
       "submersible                   4764\n",
       "swn 80                        3670\n",
       "mono                          2865\n",
       "india mark ii                 2400\n",
       "afridev                       1770\n",
       "ksb                           1415\n",
       "other - rope pump              451\n",
       "other - swn 81                 229\n",
       "windmill                       117\n",
       "india mark iii                  98\n",
       "cemo                            90\n",
       "other - play pump               85\n",
       "walimi                          48\n",
       "climax                          32\n",
       "other - mkulima/shinyanga        2\n",
       "Name: count, dtype: int64"
      ]
     },
     "metadata": {},
     "output_type": "display_data"
    },
    {
     "data": {
      "text/plain": [
       "extraction_type_group\n",
       "gravity            26780\n",
       "nira/tanira         8154\n",
       "other               6430\n",
       "submersible         6179\n",
       "swn 80              3670\n",
       "mono                2865\n",
       "india mark ii       2400\n",
       "afridev             1770\n",
       "rope pump            451\n",
       "other handpump       364\n",
       "other motorpump      122\n",
       "wind-powered         117\n",
       "india mark iii        98\n",
       "Name: count, dtype: int64"
      ]
     },
     "metadata": {},
     "output_type": "display_data"
    },
    {
     "data": {
      "text/plain": [
       "extraction_type_class\n",
       "gravity         26780\n",
       "handpump        16456\n",
       "other            6430\n",
       "submersible      6179\n",
       "motorpump        2987\n",
       "rope pump         451\n",
       "wind-powered      117\n",
       "Name: count, dtype: int64"
      ]
     },
     "metadata": {},
     "output_type": "display_data"
    },
    {
     "name": "stdout",
     "output_type": "stream",
     "text": [
      "Number of null records (extraction_type): 0\n",
      "Number of null records (extraction_type_group): 0\n",
      "Number of null records (extraction_type_class): 0\n"
     ]
    }
   ],
   "source": [
    "# 9. Extraction type\n",
    "display(df.extraction_type.value_counts())\n",
    "display(df.extraction_type_group.value_counts())\n",
    "display(df.extraction_type_class.value_counts())\n",
    "\n",
    "print(f'Number of null records (extraction_type): {df.extraction_type.isnull().sum()}')\n",
    "print(f'Number of null records (extraction_type_group): {df.extraction_type_group.isnull().sum()}')\n",
    "print(f'Number of null records (extraction_type_class): {df.extraction_type_class.isnull().sum()}')"
   ]
  },
  {
   "cell_type": "code",
   "execution_count": 28,
   "metadata": {},
   "outputs": [
    {
     "data": {
      "text/plain": [
       "payment\n",
       "never pay                25348\n",
       "pay per bucket            8985\n",
       "pay monthly               8300\n",
       "unknown                   8157\n",
       "pay when scheme fails     3914\n",
       "pay annually              3642\n",
       "other                     1054\n",
       "Name: count, dtype: int64"
      ]
     },
     "metadata": {},
     "output_type": "display_data"
    },
    {
     "data": {
      "text/plain": [
       "payment_type\n",
       "never pay     25348\n",
       "per bucket     8985\n",
       "monthly        8300\n",
       "unknown        8157\n",
       "on failure     3914\n",
       "annually       3642\n",
       "other          1054\n",
       "Name: count, dtype: int64"
      ]
     },
     "metadata": {},
     "output_type": "display_data"
    },
    {
     "name": "stdout",
     "output_type": "stream",
     "text": [
      "Number of null records (payment): 0\n",
      "Number of null records (payment_type): 0\n"
     ]
    }
   ],
   "source": [
    "# 10. Payment\n",
    "display(df.payment.value_counts())\n",
    "display(df.payment_type.value_counts())\n",
    "\n",
    "print(f'Number of null records (payment): {df.payment.isnull().sum()}')\n",
    "print(f'Number of null records (payment_type): {df.payment_type.isnull().sum()}')"
   ]
  },
  {
   "cell_type": "code",
   "execution_count": 29,
   "metadata": {},
   "outputs": [
    {
     "data": {
      "text/plain": [
       "water_quality\n",
       "soft                  50818\n",
       "salty                  4856\n",
       "unknown                1876\n",
       "milky                   804\n",
       "coloured                490\n",
       "salty abandoned         339\n",
       "fluoride                200\n",
       "fluoride abandoned       17\n",
       "Name: count, dtype: int64"
      ]
     },
     "metadata": {},
     "output_type": "display_data"
    },
    {
     "data": {
      "text/plain": [
       "quality_group\n",
       "good        50818\n",
       "salty        5195\n",
       "unknown      1876\n",
       "milky         804\n",
       "colored       490\n",
       "fluoride      217\n",
       "Name: count, dtype: int64"
      ]
     },
     "metadata": {},
     "output_type": "display_data"
    },
    {
     "name": "stdout",
     "output_type": "stream",
     "text": [
      "Number of null records (water_quality): 0\n",
      "Number of null records (quality_group): 0\n",
      "50.56% of the points that were abandoned for bad quality, are still functional.\n"
     ]
    }
   ],
   "source": [
    "# 11. Water quality\n",
    "display(df.water_quality.value_counts())\n",
    "display(df.quality_group.value_counts())\n",
    "\n",
    "print(f'Number of null records (water_quality): {df.water_quality.isnull().sum()}')\n",
    "print(f'Number of null records (quality_group): {df.quality_group.isnull().sum()}')\n",
    "\n",
    "tmp = df[df.water_quality.str.contains('abandoned')][['status_group']]\n",
    "pcg_functional_abandoned = tmp[tmp.status_group == 'functional']['status_group'].count()/len(tmp)\n",
    "print(f'{pcg_functional_abandoned*100:.2f}% of the points that were abandoned for bad quality, are still functional.')"
   ]
  },
  {
   "cell_type": "code",
   "execution_count": 30,
   "metadata": {},
   "outputs": [
    {
     "data": {
      "text/plain": [
       "quantity\n",
       "enough          33186\n",
       "insufficient    15129\n",
       "dry              6246\n",
       "seasonal         4050\n",
       "unknown           789\n",
       "Name: count, dtype: int64"
      ]
     },
     "metadata": {},
     "output_type": "display_data"
    },
    {
     "data": {
      "text/plain": [
       "quantity_group\n",
       "enough          33186\n",
       "insufficient    15129\n",
       "dry              6246\n",
       "seasonal         4050\n",
       "unknown           789\n",
       "Name: count, dtype: int64"
      ]
     },
     "metadata": {},
     "output_type": "display_data"
    },
    {
     "name": "stdout",
     "output_type": "stream",
     "text": [
      "Number of null records (quantity): 0\n",
      "Number of null records (quantity_group): 0\n"
     ]
    }
   ],
   "source": [
    "# 12. Water quantity\n",
    "display(df.quantity.value_counts())\n",
    "display(df.quantity_group.value_counts())\n",
    "\n",
    "print(f'Number of null records (quantity): {df.quantity.isnull().sum()}')\n",
    "print(f'Number of null records (quantity_group): {df.quantity_group.isnull().sum()}')"
   ]
  },
  {
   "cell_type": "code",
   "execution_count": 31,
   "metadata": {},
   "outputs": [
    {
     "data": {
      "text/plain": [
       "source\n",
       "spring                  17021\n",
       "shallow well            16824\n",
       "machine dbh             11075\n",
       "river                    9612\n",
       "rainwater harvesting     2295\n",
       "hand dtw                  874\n",
       "lake                      765\n",
       "dam                       656\n",
       "other                     212\n",
       "unknown                    66\n",
       "Name: count, dtype: int64"
      ]
     },
     "metadata": {},
     "output_type": "display_data"
    },
    {
     "data": {
      "text/plain": [
       "source_class\n",
       "groundwater    45794\n",
       "surface        13328\n",
       "unknown          278\n",
       "Name: count, dtype: int64"
      ]
     },
     "metadata": {},
     "output_type": "display_data"
    },
    {
     "data": {
      "text/plain": [
       "source_type\n",
       "spring                  17021\n",
       "shallow well            16824\n",
       "borehole                11949\n",
       "river/lake              10377\n",
       "rainwater harvesting     2295\n",
       "dam                       656\n",
       "other                     278\n",
       "Name: count, dtype: int64"
      ]
     },
     "metadata": {},
     "output_type": "display_data"
    },
    {
     "name": "stdout",
     "output_type": "stream",
     "text": [
      "Number of null records (source): 0\n",
      "Number of null records (source_class): 0\n",
      "Number of null records (source_type): 0\n"
     ]
    }
   ],
   "source": [
    "# 13. Source\n",
    "display(df.source.value_counts())\n",
    "display(df.source_class.value_counts())\n",
    "display(df.source_type.value_counts())\n",
    "\n",
    "print(f'Number of null records (source): {df.source.isnull().sum()}')\n",
    "print(f'Number of null records (source_class): {df.source_class.isnull().sum()}')\n",
    "print(f'Number of null records (source_type): {df.source_type.isnull().sum()}')"
   ]
  },
  {
   "cell_type": "code",
   "execution_count": 32,
   "metadata": {},
   "outputs": [
    {
     "data": {
      "text/plain": [
       "waterpoint_type\n",
       "communal standpipe             28522\n",
       "hand pump                      17488\n",
       "other                           6380\n",
       "communal standpipe multiple     6103\n",
       "improved spring                  784\n",
       "cattle trough                    116\n",
       "dam                                7\n",
       "Name: count, dtype: int64"
      ]
     },
     "metadata": {},
     "output_type": "display_data"
    },
    {
     "data": {
      "text/plain": [
       "waterpoint_type_group\n",
       "communal standpipe    34625\n",
       "hand pump             17488\n",
       "other                  6380\n",
       "improved spring         784\n",
       "cattle trough           116\n",
       "dam                       7\n",
       "Name: count, dtype: int64"
      ]
     },
     "metadata": {},
     "output_type": "display_data"
    },
    {
     "name": "stdout",
     "output_type": "stream",
     "text": [
      "Number of null records (waterpoint_type): 0\n",
      "Number of null records (waterpoint_type_group): 0\n"
     ]
    }
   ],
   "source": [
    "# 14. Water point type\n",
    "display(df.waterpoint_type.value_counts())\n",
    "display(df.waterpoint_type_group.value_counts())\n",
    "\n",
    "print(f'Number of null records (waterpoint_type): {df.waterpoint_type.isnull().sum()}')\n",
    "print(f'Number of null records (waterpoint_type_group): {df.waterpoint_type_group.isnull().sum()}')"
   ]
  },
  {
   "cell_type": "code",
   "execution_count": null,
   "metadata": {},
   "outputs": [],
   "source": []
  }
 ],
 "metadata": {
  "kernelspec": {
   "display_name": "Python 3",
   "language": "python",
   "name": "python3"
  },
  "language_info": {
   "codemirror_mode": {
    "name": "ipython",
    "version": 3
   },
   "file_extension": ".py",
   "mimetype": "text/x-python",
   "name": "python",
   "nbconvert_exporter": "python",
   "pygments_lexer": "ipython3",
   "version": "3.10.12"
  }
 },
 "nbformat": 4,
 "nbformat_minor": 2
}
